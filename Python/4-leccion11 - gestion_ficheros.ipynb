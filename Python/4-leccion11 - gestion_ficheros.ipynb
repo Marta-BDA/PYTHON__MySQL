{
 "cells": [
  {
   "cell_type": "markdown",
   "metadata": {},
   "source": [
    "PRIMERA FUNCIÓN"
   ]
  },
  {
   "cell_type": "code",
   "execution_count": 5,
   "metadata": {},
   "outputs": [
    {
     "name": "stdout",
     "output_type": "stream",
     "text": [
      "/mnt/c/Users/marta/Documents/BOOTCAMP/PAIR PROGRAMING/DA-PromoC-modulo1-sprint2-MartaMina/Python\n"
     ]
    }
   ],
   "source": [
    "import os\n",
    "import xml.etree.ElementTree as ET\n",
    "print (os.getcwd() )"
   ]
  },
  {
   "cell_type": "code",
   "execution_count": 3,
   "metadata": {},
   "outputs": [],
   "source": [
    "def primera_funcion(primera_carpeta, segunda_carpeta, cambio_nombre ):\n",
    "   # Esta función sirve para movernos entre las carpetas del ordenador, crear carpetas y renombrarlas. Tiene como argumentos:\n",
    "    # 'primera_carpeta', que será el primer directorio que creemos,\n",
    "    #'segunda_carpeta', con el que nombraremos el segundo directorio, dentro del primero.\n",
    "    # 'cambio_nombre'', que será con el nombre que renombraremos a nuestra primera carpeta.\n",
    "\n",
    "    ruta= os.getcwd()     \n",
    "    print(ruta)\n",
    "    \n",
    "    if primera_carpeta in os.listdir(ruta):\n",
    "        print ('Esta carpeta ya existe.')\n",
    "        \n",
    "    else:\n",
    "        os.mkdir(primera_carpeta) \n",
    "        print (\"Se ha creado \" + primera_carpeta )  \n",
    "        os.chdir ( ruta + '/' + primera_carpeta)\n",
    "        \n",
    "             \n",
    "        if segunda_carpeta in os.listdir ( ruta + '/' + primera_carpeta):\n",
    "            print ('Esta carpeta ya existe.')\n",
    "        \n",
    "        else:\n",
    "           os.mkdir(segunda_carpeta)\n",
    "           print ('Se ha creado ' + segunda_carpeta)\n",
    "           os.chdir ('../')  \n",
    "           print (os.getcwd())\n",
    "           os.rename(cambio_nombre, primera_carpeta)\n",
    "           print ('Tu carpeta se ha renombrado y se llama ', cambio_nombre)\n",
    "    \n",
    "   #creeemos que la función no ejecuta bien por un problema de permisos de windows\n",
    "  "
   ]
  },
  {
   "cell_type": "code",
   "execution_count": 4,
   "metadata": {},
   "outputs": [
    {
     "name": "stdout",
     "output_type": "stream",
     "text": [
      "/mnt/c/Users/marta/Documents/BOOTCAMP/PAIR PROGRAMING/DA-PromoC-modulo1-sprint2-MartaMina/Python\n",
      "Se ha creado prueba_domingo\n",
      "Se ha creado datos2\n"
     ]
    },
    {
     "ename": "FileNotFoundError",
     "evalue": "[Errno 2] No such file or directory: 'segunda_toma_contacto' -> 'prueba_domingo'",
     "output_type": "error",
     "traceback": [
      "\u001b[0;31m---------------------------------------------------------------------------\u001b[0m",
      "\u001b[0;31mFileNotFoundError\u001b[0m                         Traceback (most recent call last)",
      "\u001b[0;32m/tmp/ipykernel_886/1859540620.py\u001b[0m in \u001b[0;36m<module>\u001b[0;34m\u001b[0m\n\u001b[0;32m----> 1\u001b[0;31m \u001b[0mprimera_funcion\u001b[0m \u001b[0;34m(\u001b[0m\u001b[0;34m'prueba_domingo'\u001b[0m\u001b[0;34m,\u001b[0m \u001b[0;34m'datos2'\u001b[0m\u001b[0;34m,\u001b[0m \u001b[0;34m'segunda_toma_contacto'\u001b[0m\u001b[0;34m)\u001b[0m\u001b[0;34m\u001b[0m\u001b[0;34m\u001b[0m\u001b[0m\n\u001b[0m",
      "\u001b[0;32m/tmp/ipykernel_886/1435798012.py\u001b[0m in \u001b[0;36mprimera_funcion\u001b[0;34m(primera_carpeta, segunda_carpeta, cambio_nombre)\u001b[0m\n\u001b[1;32m     19\u001b[0m            \u001b[0mprint\u001b[0m \u001b[0;34m(\u001b[0m\u001b[0;34m'Se ha creado '\u001b[0m \u001b[0;34m+\u001b[0m \u001b[0msegunda_carpeta\u001b[0m\u001b[0;34m)\u001b[0m\u001b[0;34m\u001b[0m\u001b[0;34m\u001b[0m\u001b[0m\n\u001b[1;32m     20\u001b[0m            \u001b[0mos\u001b[0m\u001b[0;34m.\u001b[0m\u001b[0mchdir\u001b[0m \u001b[0;34m(\u001b[0m\u001b[0;34m'../'\u001b[0m\u001b[0;34m)\u001b[0m\u001b[0;34m\u001b[0m\u001b[0;34m\u001b[0m\u001b[0m\n\u001b[0;32m---> 21\u001b[0;31m            \u001b[0mos\u001b[0m\u001b[0;34m.\u001b[0m\u001b[0mrename\u001b[0m\u001b[0;34m(\u001b[0m\u001b[0mcambio_nombre\u001b[0m\u001b[0;34m,\u001b[0m \u001b[0mprimera_carpeta\u001b[0m\u001b[0;34m)\u001b[0m\u001b[0;34m\u001b[0m\u001b[0;34m\u001b[0m\u001b[0m\n\u001b[0m\u001b[1;32m     22\u001b[0m            \u001b[0mprint\u001b[0m \u001b[0;34m(\u001b[0m\u001b[0;34m'Tu carpeta se ha renombrado y se llama '\u001b[0m\u001b[0;34m,\u001b[0m \u001b[0mcambio_nombre\u001b[0m\u001b[0;34m)\u001b[0m\u001b[0;34m\u001b[0m\u001b[0;34m\u001b[0m\u001b[0m\n\u001b[1;32m     23\u001b[0m \u001b[0;34m\u001b[0m\u001b[0m\n",
      "\u001b[0;31mFileNotFoundError\u001b[0m: [Errno 2] No such file or directory: 'segunda_toma_contacto' -> 'prueba_domingo'"
     ]
    }
   ],
   "source": [
    "primera_funcion ('prueba_domingo', 'datos2', 'segunda_toma_contacto')"
   ]
  },
  {
   "cell_type": "markdown",
   "metadata": {},
   "source": [
    "SEGUNDA FUNCIÓN - guardando saludo en carpeta datos"
   ]
  },
  {
   "cell_type": "code",
   "execution_count": 9,
   "metadata": {},
   "outputs": [
    {
     "name": "stdout",
     "output_type": "stream",
     "text": [
      "/mnt/c/Users/marta/Documents/BOOTCAMP/PAIR PROGRAMING/DA-PromoC-modulo1-sprint2-MartaMina/Python\n"
     ]
    }
   ],
   "source": [
    "print (os.getcwd())"
   ]
  },
  {
   "cell_type": "code",
   "execution_count": 12,
   "metadata": {},
   "outputs": [],
   "source": [
    "def lectura_y_muestra_fichero(nombre):\n",
    "    # Esta función sirve para abrir un archivo, mostrarlo y mostrar su 4ª linea. Tiene como argumento:\n",
    "    # nombre, como el nombre del archivo con su extensión.\n",
    "    \n",
    "    ubi = input(\"Por favor ingrese la ruta donde se encuentra el archivo que desea abrir\")\n",
    "    camino = ubi + '/datos' #en el repo es data y en mis pruebas datos\n",
    "\n",
    "    if nombre not in os.listdir(camino):\n",
    "\n",
    "        print (\"La ubicación no es correcta o el archivo no se encuentra en la ubicaión ofrecida\")\n",
    "\n",
    "\n",
    "    else:\n",
    "        documento = ubi + '/datos/' + nombre #en el repo es data y en mis pruebas es datos\n",
    "        docu = open(documento, encoding=\"utf-8\")\n",
    "        docu_entero = docu.readlines()\n",
    "        docu.close()\n",
    "     \n",
    "        return docu_entero, docu_entero[4]\n"
   ]
  },
  {
   "cell_type": "code",
   "execution_count": 13,
   "metadata": {},
   "outputs": [
    {
     "data": {
      "text/plain": [
       "(['Hola Adalabers!!!\\n',\n",
       "  '\\n',\n",
       "  'Estamos en la sesión de pair-programming para familiarizarnos con la gestión de carpetas y ficheros desde Python 🙂🌊\\n',\n",
       "  '\\n',\n",
       "  'Esto esta siendo suuuper divertidooooo'],\n",
       " 'Esto esta siendo suuuper divertidooooo')"
      ]
     },
     "execution_count": 13,
     "metadata": {},
     "output_type": "execute_result"
    }
   ],
   "source": [
    "lectura_y_muestra_fichero('saludo.txt')"
   ]
  },
  {
   "cell_type": "markdown",
   "metadata": {},
   "source": [
    "LECTURA Y ESCRITURA DE FICHEROS\n",
    "Hemos probado la función de dos manera y ninguna de ellas nos deja sobreescribir, pensamos que puede ser también un problema con los permisos de windows."
   ]
  },
  {
   "cell_type": "code",
   "execution_count": null,
   "metadata": {},
   "outputs": [],
   "source": [
    "#fichero= Nombre del fichero, incluyendo la extensión.\n",
    "#lectura= leer el fichero.\n",
    "#encoding=El encoding del fichero.\n",
    "#contenido=El contenido que queremos escribir en el fichero."
   ]
  },
  {
   "cell_type": "code",
   "execution_count": 46,
   "metadata": {},
   "outputs": [],
   "source": [
    "texto=(\"\"\"Thu Oct 31 08:11:39 2002\n",
    "        Return-Path: <bensul2004nng@spinfinder.com>\n",
    "        X-Sieve: cmu-sieve 2.0\n",
    "        Return-Path: <bensul2004nng@spinfinder.com>\n",
    "        Message-Id: <200210311310.g9VDANt24674@bloodwork.mr.itd.UM>\n",
    "        From: \"Mr. Ben Suleman\" <bensul2004nng@spinfinder.com>\n",
    "        Date: Thu, 31 Oct 2002 05:10:00\n",
    "        To: R@M\n",
    "        Subject: URGENT ASSISTANCE /RELATIONSHIP (P)\n",
    "        MIME-Version: 1.0\n",
    "        Content-Type: text/plain;charset=\"iso-8859-1\"\n",
    "        Content-Transfer-Encoding: 7bit\n",
    "        Status: O\n",
    "\n",
    "        Dear Friend,\n",
    "\n",
    "        I am Mr. Ben Suleman a custom officer and work as Assistant controller of the Customs and Excise department Of the Federal Ministry of Internal Affairs stationed at the Murtala Mohammed International Airport, Ikeja, Lagos-Nigeria.\n",
    "\n",
    "        After the sudden death of the former Head of state of Nigeria General Sanni Abacha on June 8th 1998 his aides and immediate members of his family were arrested while trying to escape from Nigeria in a Chartered jet to Saudi Arabia with 6 trunk boxes Marked \"Diplomatic Baggage\". Acting on a tip-off as they attempted to board the Air Craft,my officials carried out a thorough search on the air craft and discovered that the 6 trunk boxes contained foreign currencies amounting to US$197,570,000.00(One Hundred and  Ninety-Seven Million Five Hundred Seventy Thousand United States Dollars).\n",
    "\n",
    "        I declared only (5) five boxes to the government and withheld one (1) in my custody containing the sum of (US$30,000,000.00) Thirty Million United States Dollars Only, which has been disguised to prevent their being discovered during transportation process.Due to several media reports on the late head of state about all the money him and his co-government officials stole from our government treasury amounting\n",
    "        to US$55 Billion Dollars (ref:ngrguardiannews.com) of July 2nd 1999. Even the London times of July 1998 reported that General Abacha has over US$3.Billion dollars in one account overseas. We decided to conceal this one (1)box till the situation is calm and quite on the issue. The box was thus deposited with a security company here in Nigeria and tagged as \"Precious Stones and Jewellry\" in other that its\n",
    "        content will not be discovered. Now that all is calm, we (myself and two of my colleagues in the operations team) are now ready to move this box out of the country through a diplomatic arrangement which is the safest means. \n",
    "\n",
    "        However as government officials the Civil Service Code of Conduct does not allow us by law to operate any foreign account or own foreign investment and the amount of money that can be found in our account\n",
    "        cannot be more than our salary on the average, thus our handicapp and our need for your assistance to help collect and keep safely in your account this money.\n",
    "\n",
    "        Therefore we want you to assist us in moving this money out of Nigeria. We shall definitely compensate you handsomely for the assistance. We can do this by instructing the Security Company here in Nigeria to\n",
    "        move the consignment to their affiliate branch office outside Nigeria through diplomatic means and the consignment will be termed as Precious Stones and Jewelleries\" which you bought during your visit to Nigeria and is being transfered to your country from here for safe keeping. Then we can arrange to meet at the destination country to take the delivery of the consignment. You will thereafter open an account there and lodge the Money there and gradually instruct remittance to your Country. \n",
    "\n",
    "        This business is 100% risk free for you so please treat this matter with utmost confidentiality .If you indicate your interest to assist us please just e-mail me for more Explanation on how we plan to execute the transaction.\n",
    "\n",
    "        Expecting your response urgently.\n",
    "\n",
    "        Best regards,\n",
    "\n",
    "        Mr. Ben Suleman\n",
    "\n",
    "        Wed Oct 30 21:41:56 2002\n",
    "        Return-Path: <james_ngola2002@maktoob.com>\n",
    "        X-Sieve: cmu-sieve 2.0\n",
    "        Return-Path: <james_ngola2002@maktoob.com>\n",
    "        Message-Id: <200210310241.g9V2fNm6028281@cs.CU>\n",
    "        From: \"MR. JAMES NGOLA.\" <james_ngola2002@maktoob.com>\n",
    "        Reply-To: james_ngola2002@maktoob.com\n",
    "        To: webmaster@aclweb.org\n",
    "        Date: Thu, 31 Oct 2002 02:38:20 +0000\n",
    "        Subject: URGENT BUSINESS ASSISTANCE AND PARTNERSHIP\n",
    "        X-Mailer: Microsoft Outlook Express 5.00.2919.6900 DM\n",
    "        MIME-Version: 1.0\n",
    "        Content-Type: text/plain; charset=\"us-ascii\"\n",
    "        Content-Transfer-Encoding: 8bit\n",
    "        X-MIME-Autoconverted: from quoted-printable to 8bit by sideshowmel.si.UM id g9V2foW24311\n",
    "        Status: O\n",
    "\n",
    "        FROM:MR. JAMES NGOLA.\n",
    "        CONFIDENTIAL TEL: 233-27-587908.\n",
    "        E-MAIL: (james_ngola2002@maktoob.com).\n",
    "\n",
    "        URGENT BUSINESS ASSISTANCE AND PARTNERSHIP.\n",
    "\n",
    "\n",
    "        DEAR FRIEND,\n",
    "\n",
    "        I AM ( DR.) JAMES NGOLA, THE PERSONAL ASSISTANCE TO THE LATE CONGOLESE (PRESIDENT LAURENT KABILA) WHO WAS ASSASSINATED BY HIS BODY GUARD ON 16TH JAN. 2001.\n",
    "\n",
    "\n",
    "        THE INCIDENT OCCURRED IN OUR PRESENCE WHILE WE WERE HOLDING MEETING WITH HIS EXCELLENCY OVER THE FINANCIAL RETURNS FROM THE DIAMOND SALES IN THE AREAS CONTROLLED BY (D.R.C.) DEMOCRATIC REPUBLIC OF CONGO FORCES AND THEIR FOREIGN ALLIES ANGOLA AND ZIMBABWE, HAVING RECEIVED THE PREVIOUS DAY (USD$100M) ONE HUNDRED MILLION UNITED STATES DOLLARS, CASH IN THREE DIPLOMATIC BOXES ROUTED THROUGH ZIMBABWE.\n",
    "\n",
    "        MY PURPOSE OF WRITING YOU THIS LETTER IS TO SOLICIT FOR YOUR ASSISTANCE AS TO BE A COVER TO THE FUND AND ALSO COLLABORATION IN MOVING THE SAID FUND INTO YOUR BANK ACCOUNT THE SUM OF (USD$25M) TWENTY FIVE MILLION UNITED STATES DOLLARS ONLY, WHICH I DEPOSITED WITH A SECURITY COMPANY IN GHANA, IN A DIPLOMATIC BOX AS GOLDS WORTH (USD$25M) TWENTY FIVE MILLION UNITED STATES DOLLARS ONLY FOR SAFE KEEPING IN A SECURITY VAULT FOR ANY FURTHER INVESTMENT PERHAPS IN YOUR COUNTRY. \n",
    "\n",
    "        YOU WERE INTRODUCED TO ME BY A RELIABLE FRIEND OF MINE WHO IS A TRAVELLER,AND ALSO A MEMBER OF CHAMBER OF COMMERCE AS A RELIABLE AND TRUSTWORTHY PERSON WHOM I CAN RELY ON AS FOREIGN PARTNER, EVEN THOUGH THE NATURE OF THE TRANSACTION WAS NOT REVEALED TO HIM FOR SECURITY REASONS.\n",
    "\n",
    "\n",
    "        THE (USD$25M) WAS PART OF A PROCEEDS FROM DIAMOND TRADE MEANT FOR THE LATE PRESIDENT LAURENT KABILA WHICH WAS DELIVERED THROUGH ZIMBABWE IN DIPLOMATIC BOXES. THE BOXES WERE KEPT UNDER MY CUSTODY BEFORE THE SAD EVENT THAT TOOK THE LIFE OF (MR. PRESIDENT).THE CONFUSION THAT ENSUED AFTER THE ASSASSINATION AND THE SPORADIC SHOOTING AMONG THE FACTIONS, I HAVE TO RUN AWAY FROM THE COUNTRY FOR MY DEAR LIFE AS I AM NOT A SOLDIER BUT A CIVIL SERVANT I CROSSED RIVER CONGO TO OTHER SIDE OF CONGO LIBREVILLE FROM THERE I MOVED TO THE THIRD COUNTRY GHANA WHERE I AM PRESENTLY TAKING REFUGE. \n",
    "\n",
    "        AS A MATTER OF FACT, WHAT I URGENTLY NEEDED FROM YOU IS YOUR ASSISTANCE IN MOVING THIS MONEY INTO YOUR ACCOUNT IN YOUR COUNTRY FOR INVESTMENT WITHOUT RAISING EYEBROW. FOR YOUR ASSISTANCE I WILL GIVE YOU 20% OF THE TOTAL SUM AS YOUR OWN SHARE WHEN THE MONEY GETS TO YOUR ACCOUNT, WHILE 75% WILL BE FOR ME, OF WHICH WITH YOUR KIND ADVICE I HOPE TO INVEST IN PROFITABLE VENTURE IN YOUR COUNTRY IN OTHER TO SETTLE DOWN FOR MEANINGFUL LIFE, AS I AM TIRED OF LIVING IN A WAR ENVIRONMENT. \n",
    "\n",
    "        THE REMAINING 5% WILL BE USED TO OFFSET ANY COST INCURRED IN THE CAUSE OF MOVING THE MONEY TO YOUR ACCOUNT. IF THE PROPOSAL IS ACCEPTABLE TO YOU PLEASE CONTACT ME IMMEDIATELY THROUGH THE ABOVE TELEPHONE AND E-MAIL, TO ENABLE ME ARRANGE FACE TO FACE MEETING WITH YOU IN GHANA FOR THE CLEARANCE OF THE FUNDS BEFORE TRANSFRING IT TO YOUR BANK ACCOUNT AS SEEING IS BELIEVING. \n",
    "\n",
    "        FINALLY, IT IS IMPORTANT ALSO THAT I LET YOU UNDERSTAND THAT THERE IS NO RISK INVOLVED WHATSOEVER AS THE MONEY HAD NO RECORD IN KINSHASA FOR IT WAS MEANT FOR THE PERSONAL USE OF (MR. PRESIDEND ) BEFORE THE NEFARIOUS INCIDENT OCCURRED, AND ALSO I HAVE ALL THE NECESSARY DOCUMENTS AS REGARDS TO THE FUNDS INCLUDING THE (CERTIFICATE OF DEPOSIT), AS I AM THE DEPOSITOR OF THE CONSIGNMENT.\n",
    "\n",
    "\n",
    "        LOOKING FORWARD TO YOUR URGENT RESPONSE.\n",
    "\n",
    "        YOUR SINCERELY,\n",
    "\n",
    "        MR. JAMES NGOLA.\"\"\")"
   ]
  },
  {
   "cell_type": "code",
   "execution_count": 50,
   "metadata": {},
   "outputs": [
    {
     "name": "stdout",
     "output_type": "stream",
     "text": [
      "/mnt/c/Users/marta/Documents/BOOTCAMP/PAIR PROGRAMING/DA-PromoC-modulo1-sprint2-MartaMina/Python/datos\n"
     ]
    }
   ],
   "source": [
    "ruta=os.getcwd()\n",
    "print (ruta)"
   ]
  },
  {
   "cell_type": "code",
   "execution_count": 53,
   "metadata": {},
   "outputs": [],
   "source": [
    "def lectura_escritura (fichero, lectura, contenido):\n",
    "    ruta=os.getcwd()\n",
    "    if fichero not in os.listdir(ruta):\n",
    "        f= open(ruta, 'x', encoding='utf-8')\n",
    "        print ('Tu archivo se ha creado correctamente')\n",
    "        f.write (contenido)\n",
    "        f.close()\n",
    "    if fichero in os.listdir(ruta):\n",
    "        input= ('Quieres sobreescribir', fichero,'? Elige s/n')\n",
    "    \n",
    "        if input== 's' or input=='S':\n",
    "             f= open(ruta, 'w', encoding='utf-8')\n",
    "        elif input== 'n' or input=='N':\n",
    "            pass\n",
    "\n",
    "\n",
    "###duda: el input debe estar antes de la funcion ya que es un parametro q hay q dar a la funcion"
   ]
  },
  {
   "cell_type": "code",
   "execution_count": 52,
   "metadata": {},
   "outputs": [],
   "source": [
    "lectura_escritura ( 'email.txt', 'w', 'texto')"
   ]
  },
  {
   "cell_type": "code",
   "execution_count": 44,
   "metadata": {},
   "outputs": [],
   "source": [
    "def creacion_y_lectura(nombre, texto):\n",
    "    # Esta función sirve para crear un archivo o sobreescribirlo en caso de que el archivo exista, y mostrar el contenido de dicho archivo. Esta función solo funcionará en la ruta en la que se encuente el usuario. Tiene como argumento:\n",
    "    # nombre, como el nombre del archivo con su extensión.\n",
    "    # modo, como el modo en el que deseamos abrir el archivo una vez creado y o sobreescrito. (Hemos interpretado que era en ese punto en el que insertar el modo de apertura del fichero ya que si no no podríamos programar correctamente la creación o sobrescritura del fichero.)\n",
    "    # codi, como el tipo de codificado que tendrá el archivo.\n",
    "    # texto, como el texto a insertar en el archivo a crear o sobrescribir.\n",
    "    ubicacion1 = os.getcwd()\n",
    "    ubicacion2 = ubicacion1 + \"/datos\"\n",
    "    os.chdir (ubicacion2)\n",
    "\n",
    "\n",
    "    if nombre not in os.listdir():\n",
    "        with open(nombre, \"x\") as fichero:\n",
    "            fichero.write(texto)\n",
    "            z = fichero.read(mode= \"r\", encoding= \"utf-8\")\n",
    "            fichero.close()\n",
    "            return z\n",
    "    else:\n",
    "        respuesta = input(\"Ya existe un fichero con ese nombre. ¿Deseas sobreescribirlo?: S/N\")\n",
    "        validas = \"S\", \"N\", \"s\", \"n\"\n",
    "        while respuesta not in validas:\n",
    "            respuesta = input(\"Por favor conteste. ¿Desea sobreescribirlo?: S/N\")\n",
    "            if respuesta in validas:\n",
    "                pass\n",
    "        if respuesta == \"S\" or respuesta == \"s\":\n",
    "            with open(nombre, \"w\") as fichero2:\n",
    "                fichero2.write(texto)\n",
    "                z2 = fichero.read(mode= \"r\", encoding= \"utf-8\")\n",
    "                fichero.close()\n",
    "                print(\"Su fichero se sobreescribió correctamente\")\n",
    "                return z2\n",
    "        if respuesta == \"N\" or respuesta == \"n\":\n",
    "            return \"Ok, no hacemos nada entonces\"\n",
    "        \n",
    "\n",
    "    os.chdir(ubicacion1)\n",
    "\n"
   ]
  },
  {
   "cell_type": "code",
   "execution_count": null,
   "metadata": {},
   "outputs": [],
   "source": [
    "creacion_y_lectura('email.txt', texto)"
   ]
  },
  {
   "cell_type": "markdown",
   "metadata": {},
   "source": [
    "Lectura de archivo XML"
   ]
  },
  {
   "cell_type": "code",
   "execution_count": 59,
   "metadata": {},
   "outputs": [],
   "source": [
    "def lectura_xml(nombre_xml):\n",
    "\n",
    "    ubicacion1 = os.getcwd()\n",
    "    ubicacion2 = ubicacion1 + \"/datos\"\n",
    "    os.chdir(ubicacion2)\n",
    "    archivo = ET.parse(nombre_xml)\n",
    "\n",
    "    root = archivo.getroot()\n",
    "    print(root.tag)\n",
    "    print(root.attrib)\n",
    "\n",
    "    print(\"-------------------\")\n",
    "\n",
    "    for hijo in root:\n",
    "\n",
    "        print(hijo.attrib)\n",
    "        print(\"-------------------\")\n",
    "\n",
    "  \n",
    "\n",
    "        for nieto in hijo:\n",
    "\n",
    "          for tatara in nieto:\n",
    "\n",
    "              for tatara2 in tatara:\n",
    "              #for tatara2 in tatara.findall('year','description'):\n",
    "\n",
    "                #print(tatara2.findall('year'))\n",
    "\n",
    "                #print(tatara2.findall('description'))\n",
    "               \n",
    "                print(tatara2.text)\n",
    "\n",
    "    os.chdir(ubicacion1)\n"
   ]
  },
  {
   "cell_type": "code",
   "execution_count": 60,
   "metadata": {},
   "outputs": [
    {
     "name": "stdout",
     "output_type": "stream",
     "text": [
      "collection\n",
      "{}\n",
      "-------------------\n",
      "{'category': 'Action'}\n",
      "-------------------\n",
      "DVD\n",
      "1981\n",
      "PG\n",
      "\n",
      "                'Archaeologist and adventurer Indiana Jones \n",
      "                is hired by the U.S. government to find the Ark of  the Covenant before the Nazis.'\n",
      "                \n",
      "DVD,Online\n",
      "1984\n",
      "PG\n",
      "None provided.\n",
      "Blu-ray\n",
      "1985\n",
      "PG\n",
      "Marty McFly\n",
      "dvd, digital\n",
      "2000\n",
      "PG-13\n",
      "Two mutants come to a private academy for their kind whose resident superhero team must oppose a terrorist organization with similar powers.\n",
      "VHS\n",
      "1992\n",
      "PG13\n",
      "NA.\n",
      "Online\n",
      "1992\n",
      "R\n",
      "WhAtEvER I Want!!!?!\n",
      "{'category': 'Thriller'}\n",
      "-------------------\n",
      "DVD\n",
      "1979\n",
      "R\n",
      "\"\"\"\"\"\"\"\"\"\n",
      "DVD\n",
      "1986\n",
      "PG13\n",
      "Funny movie on funny guy \n",
      "blue-ray\n",
      "2000\n",
      "Unrated\n",
      "psychopathic Bateman\n"
     ]
    }
   ],
   "source": [
    " lectura_xml('peliculas.xml')"
   ]
  }
 ],
 "metadata": {
  "kernelspec": {
   "display_name": "Python 3.9.7 ('base')",
   "language": "python",
   "name": "python3"
  },
  "language_info": {
   "codemirror_mode": {
    "name": "ipython",
    "version": 3
   },
   "file_extension": ".py",
   "mimetype": "text/x-python",
   "name": "python",
   "nbconvert_exporter": "python",
   "pygments_lexer": "ipython3",
   "version": "3.9.7"
  },
  "orig_nbformat": 4,
  "vscode": {
   "interpreter": {
    "hash": "e61300d61847ccc4b73188ddef9738f9820dab90378395ffa79ee755f5db208e"
   }
  }
 },
 "nbformat": 4,
 "nbformat_minor": 2
}
