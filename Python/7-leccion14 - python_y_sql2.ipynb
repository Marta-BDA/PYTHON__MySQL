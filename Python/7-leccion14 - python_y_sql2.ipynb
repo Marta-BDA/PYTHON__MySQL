{
 "cells": [
  {
   "cell_type": "markdown",
   "metadata": {},
   "source": [
    "Creación de una BBDD y tablas en Python"
   ]
  },
  {
   "cell_type": "code",
   "execution_count": 16,
   "metadata": {},
   "outputs": [],
   "source": [
    "# Como le hemos dado a correr otra vez y sale todo como error de que ya existe pero porque las hemos creado antes sin errores. Hemos vuelto a crear otra base de datos llamada \"nuestra_primerita_BBDD_PYTHON\" y crear las tablas dentro \n",
    "# para comprobar que efectivamente todo estaba en orden. "
   ]
  },
  {
   "cell_type": "code",
   "execution_count": 17,
   "metadata": {},
   "outputs": [],
   "source": [
    "import mysql.connector"
   ]
  },
  {
   "cell_type": "code",
   "execution_count": 18,
   "metadata": {},
   "outputs": [
    {
     "data": {
      "text/plain": [
       "True"
      ]
     },
     "execution_count": 18,
     "metadata": {},
     "output_type": "execute_result"
    }
   ],
   "source": [
    "cnx = mysql.connector.connect(user='root', password='AlumnaAdalab',\n",
    "                              host='127.0.0.1')\n",
    "\n",
    "\n",
    "cursor = cnx.cursor()\n",
    "\n",
    "try:\n",
    "    cursor.execute(\"CREATE DATABASE nuestra_primerita_BBDD_PYTHON\")\n",
    "except mysql.connector.Error as err:\n",
    "    print(err)\n",
    "    print(\"Error Code:\", err.errno)\n",
    "    print(\"SQLSTATE\", err.sqlstate)\n",
    "    print(\"Message\", err.msg)\n",
    "\n",
    "cnx.close()\n",
    "cursor.close()"
   ]
  },
  {
   "cell_type": "markdown",
   "metadata": {},
   "source": [
    "Creamos una función para crear tablas"
   ]
  },
  {
   "cell_type": "code",
   "execution_count": 31,
   "metadata": {},
   "outputs": [],
   "source": [
    "def creacion_de_tablas(contraseña, query):\n",
    "    \n",
    "    cnx = mysql.connector.connect( user='root', password=contraseña,\n",
    "                                host='127.0.0.1',\n",
    "                                database='nuestra_primerita_BBDD_PYTHON')\n",
    "\n",
    "    cursor = cnx.cursor()\n",
    "    try:\n",
    "        cursor.execute(query)\n",
    "        return print(cursor)\n",
    "\n",
    "    except mysql.connector.Error as err:\n",
    "        print(err)\n",
    "        print(\"Error Code:\", err.errno)\n",
    "        print(\"SQLSTATE\", err.sqlstate)\n",
    "        print(\"Message\", err.msg)\n",
    "\n",
    "cnx.close()\n",
    "cursor.close()"
   ]
  },
  {
   "cell_type": "code",
   "execution_count": 32,
   "metadata": {},
   "outputs": [],
   "source": [
    "tabla_zapatillas = \"\"\"CREATE TABLE Tabla_Zapatillas (id_Zapatillas INT AUTO_INCREMENT PRIMARY KEY NOT NULL,\n",
    "                                                    Modelo VARCHAR(45) NOT NULL,\n",
    "                                                    Color VARCHAR(45) NOT NULL,\n",
    "                                                    Talla INT NOT NULL)\"\"\""
   ]
  },
  {
   "cell_type": "code",
   "execution_count": 33,
   "metadata": {},
   "outputs": [
    {
     "name": "stdout",
     "output_type": "stream",
     "text": [
      "CMySQLCursor: CREATE TABLE Tabla_Zapatillas (id_Zapati..\n"
     ]
    }
   ],
   "source": [
    "creacion_de_tablas('AlumnaAdalab', tabla_zapatillas)"
   ]
  },
  {
   "cell_type": "code",
   "execution_count": 34,
   "metadata": {},
   "outputs": [],
   "source": [
    "tabla_clientes =  \"\"\"CREATE TABLE Tabla_Clientes (id_Empleado INT AUTO_INCREMENT PRIMARY KEY NOT NULL,\n",
    "                                                    Nombre VARCHAR(45) NOT NULL,\n",
    "                                                    Numero_Telefono INT(9) NOT NULL,\n",
    "                                                    Email VARCHAR(45) NOT NULL,\n",
    "                                                    Direccion VARCHAR(45) NOT NULL,\n",
    "                                                    Ciudad VARCHAR(45),\n",
    "                                                    Pais VARCHAR(45) NOT NULL,\n",
    "                                                    Codigo_postal INT(9) NOT NULL)\"\"\"\n",
    "\n",
    "# Después de crear la tabla nos damos cuenta de que por erratas hemos puesto id_empleado como nombre de columna en vez de id_Cliente. Más adelante hacemos un AlTER TABLE para arreglar esto.                                                "
   ]
  },
  {
   "cell_type": "code",
   "execution_count": 35,
   "metadata": {},
   "outputs": [
    {
     "name": "stdout",
     "output_type": "stream",
     "text": [
      "CMySQLCursor: CREATE TABLE Tabla_Clientes (id_Empleado..\n"
     ]
    }
   ],
   "source": [
    "creacion_de_tablas('AlumnaAdalab', tabla_clientes)"
   ]
  },
  {
   "cell_type": "code",
   "execution_count": 36,
   "metadata": {},
   "outputs": [],
   "source": [
    "tabla_empleados =  \"\"\"CREATE TABLE Tabla_Empleados (id_Empleado INT AUTO_INCREMENT PRIMARY KEY NOT NULL,\n",
    "                                                    Nombre VARCHAR(45) NOT NULL,\n",
    "                                                    Tienda VARCHAR(45) NOT NULL,\n",
    "                                                    Salario FLOAT,\n",
    "                                                    Fecha_incorporacion DATE)\"\"\""
   ]
  },
  {
   "cell_type": "code",
   "execution_count": 37,
   "metadata": {},
   "outputs": [
    {
     "name": "stdout",
     "output_type": "stream",
     "text": [
      "CMySQLCursor: CREATE TABLE Tabla_Empleados (id_Emplead..\n"
     ]
    }
   ],
   "source": [
    "creacion_de_tablas('AlumnaAdalab', tabla_empleados)"
   ]
  },
  {
   "cell_type": "markdown",
   "metadata": {},
   "source": [
    "Creamos un Alter table para cambiar el error de la column id_Cliente"
   ]
  },
  {
   "cell_type": "code",
   "execution_count": 38,
   "metadata": {},
   "outputs": [],
   "source": [
    "alter_table_id = \"ALTER TABLE Tabla_Clientes RENAME COLUMN id_Empleado to id_Cliente\""
   ]
  },
  {
   "cell_type": "code",
   "execution_count": 39,
   "metadata": {},
   "outputs": [
    {
     "name": "stdout",
     "output_type": "stream",
     "text": [
      "CMySQLCursor: ALTER TABLE Tabla_Clientes RENAME COLUMN..\n"
     ]
    }
   ],
   "source": [
    "creacion_de_tablas('AlumnaAdalab', alter_table_id)"
   ]
  },
  {
   "cell_type": "code",
   "execution_count": 41,
   "metadata": {},
   "outputs": [],
   "source": [
    "tabla_facturas =  \"\"\"CREATE TABLE Tabla_Facturas (id_Factura INT AUTO_INCREMENT PRIMARY KEY NOT NULL,\n",
    "                                                    id_Empleado INT NOT NULL,\n",
    "                                                    id_Cliente INT NOT NULL,\n",
    "                                                    id_Zapatillas INT NOT NULL,\n",
    "                                                    Fecha DATE NOT NULL,\n",
    "                                                    Total FLOAT NOT NULL,\n",
    "                                                    CONSTRAINT\n",
    "                                                    FOREIGN KEY (id_zapatillas)\n",
    "\t\t                                            REFERENCES Tabla_Zapatillas (id_zapatillas)\n",
    "\t\t\t                                        ON DELETE CASCADE\n",
    "                                                    ON UPDATE CASCADE ,\n",
    "                                                    CONSTRAINT \n",
    "                                                    FOREIGN KEY (id_cliente)\n",
    "                                                    REFERENCES Tabla_Clientes (id_cliente)\n",
    "                                                    ON DELETE CASCADE\n",
    "                                                    ON UPDATE CASCADE ,\n",
    "                                                    CONSTRAINT \n",
    "                                                    FOREIGN KEY (id_empleado)\n",
    "                                                    REFERENCES Tabla_Empleados (id_empleado)\n",
    "                                                    ON DELETE CASCADE\n",
    "                                                    ON UPDATE CASCADE)\"\"\""
   ]
  },
  {
   "cell_type": "code",
   "execution_count": 42,
   "metadata": {},
   "outputs": [
    {
     "name": "stdout",
     "output_type": "stream",
     "text": [
      "CMySQLCursor: CREATE TABLE Tabla_Facturas (id_Factura ..\n"
     ]
    }
   ],
   "source": [
    "creacion_de_tablas('AlumnaAdalab', tabla_facturas)"
   ]
  }
 ],
 "metadata": {
  "kernelspec": {
   "display_name": "Python 3.10.7 64-bit",
   "language": "python",
   "name": "python3"
  },
  "language_info": {
   "codemirror_mode": {
    "name": "ipython",
    "version": 3
   },
   "file_extension": ".py",
   "mimetype": "text/x-python",
   "name": "python",
   "nbconvert_exporter": "python",
   "pygments_lexer": "ipython3",
   "version": "3.10.7"
  },
  "orig_nbformat": 4,
  "vscode": {
   "interpreter": {
    "hash": "f0d0cdf5bbfc5bf143425a9ac8ca58b7235654eb99f7bbb57643934264c436bd"
   }
  }
 },
 "nbformat": 4,
 "nbformat_minor": 2
}
