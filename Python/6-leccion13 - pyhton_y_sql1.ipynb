{
 "cells": [
  {
   "cell_type": "markdown",
   "metadata": {},
   "source": [
    "Ejercicio 1.  ¿Qué BBDD tenemos en nuestro servidor?"
   ]
  },
  {
   "cell_type": "code",
   "execution_count": 2,
   "metadata": {},
   "outputs": [],
   "source": [
    "import mysql.connector"
   ]
  },
  {
   "cell_type": "code",
   "execution_count": 2,
   "metadata": {},
   "outputs": [],
   "source": [
    "cnx = mysql.connector.connect(user = \"root\", password = \"AlumnaAdalab\", \n",
    "                            host = \"127.0.0.1\", \n",
    "                            database = \"tienda\")\n",
    "\n",
    "cursor = cnx.cursor()\n",
    "cursor.execute(\"SHOW DATABASES\")"
   ]
  },
  {
   "cell_type": "code",
   "execution_count": 3,
   "metadata": {},
   "outputs": [
    {
     "name": "stdout",
     "output_type": "stream",
     "text": [
      "('information_schema',)\n",
      "('leccion-1-sql',)\n",
      "('leccion-10-sql',)\n",
      "('leccion-11-sql',)\n",
      "('leccion-12-sql',)\n",
      "('leccion-13-sql',)\n",
      "('leccion-14-sql',)\n",
      "('leccion-2-sql',)\n",
      "('leccion-3-sql',)\n",
      "('leccion-4-sql',)\n",
      "('leccion-5-sql',)\n",
      "('leccion-6-sql',)\n",
      "('leccion-7-sql',)\n",
      "('leccion-8-sql',)\n",
      "('leccion-9-sql',)\n",
      "('mysql',)\n",
      "('new_schema_pruebas',)\n",
      "('northwind',)\n",
      "('performance_schema',)\n",
      "('proyecto_1_team_1',)\n",
      "('sakila',)\n",
      "('sys',)\n",
      "('tienda',)\n",
      "('tienda_zapatillas',)\n",
      "('world',)\n"
     ]
    }
   ],
   "source": [
    "for x in cursor:\n",
    "    print(x)\n"
   ]
  },
  {
   "cell_type": "code",
   "execution_count": 4,
   "metadata": {},
   "outputs": [
    {
     "data": {
      "text/plain": [
       "True"
      ]
     },
     "execution_count": 4,
     "metadata": {},
     "output_type": "execute_result"
    }
   ],
   "source": [
    "cnx.close()\n",
    "cursor.close()"
   ]
  },
  {
   "cell_type": "markdown",
   "metadata": {},
   "source": [
    "Ejercicio 2.  Empezemos a explorar la BBDD de Northwind. ¿Qué tablas componen la BBDD? Guarda el resultado de los nombres de la tablas en una lista."
   ]
  },
  {
   "cell_type": "markdown",
   "metadata": {},
   "source": []
  },
  {
   "cell_type": "code",
   "execution_count": 22,
   "metadata": {},
   "outputs": [
    {
     "name": "stdout",
     "output_type": "stream",
     "text": [
      "[('categories',), ('customer_customer_demo',), ('customer_demographics',), ('customers',), ('empleadas',), ('employee_territories',), ('employees',), ('order_details',), ('orders',), ('products',), ('region',), ('shippers',), ('suppliers',), ('territories',)]\n"
     ]
    }
   ],
   "source": [
    "cnx = mysql.connector.connect(user = \"root\", password = \"AlumnaAdalab\", \n",
    "                            host = \"127.0.0.1\", \n",
    "                            database = \"northwind\")\n",
    "\n",
    "cursor = cnx.cursor()\n",
    "cursor.execute(\"SHOW TABLES\")\n",
    "\n",
    "resultados_tablas_north = cursor.fetchall()\n",
    "\n",
    "print(resultados_tablas_north)\n",
    "\n",
    "cursor.close()\n",
    "cnx.close()\n"
   ]
  },
  {
   "cell_type": "markdown",
   "metadata": {},
   "source": [
    "Ejercicio 3. ¿Qué columnas tiene cada una de las tablas?"
   ]
  },
  {
   "cell_type": "code",
   "execution_count": 5,
   "metadata": {},
   "outputs": [
    {
     "name": "stdout",
     "output_type": "stream",
     "text": [
      "('categories', 'category_id')\n"
     ]
    }
   ],
   "source": [
    "cnx = mysql.connector.connect(user = \"root\", password = \"AlumnaAdalab\", \n",
    "                            host = \"127.0.0.1\", \n",
    "                            database = \"INFORMATION_SCHEMA\")\n",
    "\n",
    "cursor = cnx.cursor()\n",
    "\n",
    "\n",
    "cursor.execute(\"\"\"SELECT TABLE_NAME, COLUMN_NAME FROM COLUMNS WHERE TABLE_SCHEMA = 'northwind'\"\"\")\n",
    "\n",
    "for a in cursor:\n",
    "  print(a)\n",
    "  break \n",
    "\n",
    "#El brake lo hemos puesto de cara a no \"ensuciar\" mucho el archivo.\n",
    "\n",
    "\n",
    "\n",
    "\n"
   ]
  },
  {
   "cell_type": "code",
   "execution_count": 34,
   "metadata": {},
   "outputs": [
    {
     "data": {
      "text/plain": [
       "True"
      ]
     },
     "execution_count": 34,
     "metadata": {},
     "output_type": "execute_result"
    }
   ],
   "source": [
    "cnx.close()\n",
    "cursor.close()"
   ]
  },
  {
   "cell_type": "markdown",
   "metadata": {},
   "source": [
    "Ejercicio 4. Hagamos unas queries facilitas"
   ]
  },
  {
   "cell_type": "markdown",
   "metadata": {},
   "source": [
    "        consulta1:Extraed el primer pedido donde se ha gastado más "
   ]
  },
  {
   "cell_type": "markdown",
   "metadata": {},
   "source": [
    "        consulta 2:Devuelve la misma query que en el anterior ejercicio, pero en este caso devuelve todos los resultados"
   ]
  },
  {
   "cell_type": "markdown",
   "metadata": {},
   "source": [
    "        consulta 3:Extraed el números de pedidos que se hayan hecho por dia. Devuelve los resultados en una dataframe"
   ]
  },
  {
   "cell_type": "markdown",
   "metadata": {},
   "source": [
    "        consulta 4:Extraer los pedidos hechos por \"Nancy Daviolo\""
   ]
  },
  {
   "cell_type": "code",
   "execution_count": 7,
   "metadata": {},
   "outputs": [],
   "source": [
    "import pandas"
   ]
  },
  {
   "cell_type": "code",
   "execution_count": 8,
   "metadata": {},
   "outputs": [],
   "source": [
    "cnx = mysql.connector.connect(user = \"root\", password = \"AlumnaAdalab\", \n",
    "                            host = \"127.0.0.1\", \n",
    "                            database = \"northwind\")\n",
    "\n",
    "cursor = cnx.cursor()\n",
    "\n",
    "consulta1 = (\"\"\"SELECT order_id, (unit_price * quantity) As Total\n",
    "                FROM order_details \n",
    "                ORDER BY (unit_price * quantity) DESC LIMIT 1; \"\"\")\n",
    "\n",
    "cursor.execute(consulta1)\n",
    "\n",
    "consulta1_resultado = cursor.fetchall()\n",
    "\n"
   ]
  },
  {
   "cell_type": "code",
   "execution_count": 9,
   "metadata": {},
   "outputs": [
    {
     "name": "stdout",
     "output_type": "stream",
     "text": [
      "El orderID más caro ha sido 10865 y su coste total ha sido 15810.0\n"
     ]
    }
   ],
   "source": [
    "print(f\"El orderID más caro ha sido {consulta1_resultado[0][0]} y su coste total ha sido {consulta1_resultado[0][1]}\")"
   ]
  },
  {
   "cell_type": "code",
   "execution_count": 10,
   "metadata": {},
   "outputs": [],
   "source": [
    "consulta2 = (\"\"\"SELECT order_id, (unit_price * quantity) As Total\n",
    "                FROM order_details \n",
    "                ORDER BY (unit_price * quantity) DESC; \"\"\")\n",
    "\n",
    "cursor.execute(consulta2)\n",
    "consulta2_resultado = cursor.fetchall()\n"
   ]
  },
  {
   "cell_type": "code",
   "execution_count": null,
   "metadata": {},
   "outputs": [],
   "source": [
    "print(consulta2_resultado) #no lo dejamos ejecutado por no \"ensuciar\" mucho el aarchivo nuevamente"
   ]
  },
  {
   "cell_type": "code",
   "execution_count": 12,
   "metadata": {},
   "outputs": [],
   "source": [
    "consulta3 = (\"\"\"SELECT COUNT(order_id), order_date\n",
    "                FROM orders\n",
    "                GROUP BY DAY(order_date);\"\"\")\n",
    "\n",
    "cursor.execute(consulta3)\n",
    "consulta3_resultado = cursor.fetchall()\n",
    "\n",
    "consulta3_dataframe = pandas.DataFrame(consulta3_resultado, columns = ['Order_ID', 'OrderDate'])"
   ]
  },
  {
   "cell_type": "code",
   "execution_count": 13,
   "metadata": {},
   "outputs": [
    {
     "data": {
      "text/html": [
       "<div>\n",
       "<style scoped>\n",
       "    .dataframe tbody tr th:only-of-type {\n",
       "        vertical-align: middle;\n",
       "    }\n",
       "\n",
       "    .dataframe tbody tr th {\n",
       "        vertical-align: top;\n",
       "    }\n",
       "\n",
       "    .dataframe thead th {\n",
       "        text-align: right;\n",
       "    }\n",
       "</style>\n",
       "<table border=\"1\" class=\"dataframe\">\n",
       "  <thead>\n",
       "    <tr style=\"text-align: right;\">\n",
       "      <th></th>\n",
       "      <th>Order_ID</th>\n",
       "      <th>OrderDate</th>\n",
       "    </tr>\n",
       "  </thead>\n",
       "  <tbody>\n",
       "    <tr>\n",
       "      <th>0</th>\n",
       "      <td>27</td>\n",
       "      <td>1996-07-04</td>\n",
       "    </tr>\n",
       "    <tr>\n",
       "      <th>1</th>\n",
       "      <td>31</td>\n",
       "      <td>1996-07-05</td>\n",
       "    </tr>\n",
       "    <tr>\n",
       "      <th>2</th>\n",
       "      <td>21</td>\n",
       "      <td>1996-07-08</td>\n",
       "    </tr>\n",
       "    <tr>\n",
       "      <th>3</th>\n",
       "      <td>31</td>\n",
       "      <td>1996-07-09</td>\n",
       "    </tr>\n",
       "    <tr>\n",
       "      <th>4</th>\n",
       "      <td>28</td>\n",
       "      <td>1996-07-10</td>\n",
       "    </tr>\n",
       "    <tr>\n",
       "      <th>5</th>\n",
       "      <td>27</td>\n",
       "      <td>1996-07-11</td>\n",
       "    </tr>\n",
       "    <tr>\n",
       "      <th>6</th>\n",
       "      <td>28</td>\n",
       "      <td>1996-07-12</td>\n",
       "    </tr>\n",
       "    <tr>\n",
       "      <th>7</th>\n",
       "      <td>22</td>\n",
       "      <td>1996-07-15</td>\n",
       "    </tr>\n",
       "    <tr>\n",
       "      <th>8</th>\n",
       "      <td>32</td>\n",
       "      <td>1996-07-16</td>\n",
       "    </tr>\n",
       "    <tr>\n",
       "      <th>9</th>\n",
       "      <td>29</td>\n",
       "      <td>1996-07-17</td>\n",
       "    </tr>\n",
       "    <tr>\n",
       "      <th>10</th>\n",
       "      <td>26</td>\n",
       "      <td>1996-07-18</td>\n",
       "    </tr>\n",
       "    <tr>\n",
       "      <th>11</th>\n",
       "      <td>29</td>\n",
       "      <td>1996-07-19</td>\n",
       "    </tr>\n",
       "    <tr>\n",
       "      <th>12</th>\n",
       "      <td>26</td>\n",
       "      <td>1996-07-22</td>\n",
       "    </tr>\n",
       "    <tr>\n",
       "      <th>13</th>\n",
       "      <td>30</td>\n",
       "      <td>1996-07-23</td>\n",
       "    </tr>\n",
       "    <tr>\n",
       "      <th>14</th>\n",
       "      <td>30</td>\n",
       "      <td>1996-07-24</td>\n",
       "    </tr>\n",
       "    <tr>\n",
       "      <th>15</th>\n",
       "      <td>26</td>\n",
       "      <td>1996-07-25</td>\n",
       "    </tr>\n",
       "    <tr>\n",
       "      <th>16</th>\n",
       "      <td>30</td>\n",
       "      <td>1996-07-26</td>\n",
       "    </tr>\n",
       "    <tr>\n",
       "      <th>17</th>\n",
       "      <td>23</td>\n",
       "      <td>1996-07-29</td>\n",
       "    </tr>\n",
       "    <tr>\n",
       "      <th>18</th>\n",
       "      <td>29</td>\n",
       "      <td>1996-07-30</td>\n",
       "    </tr>\n",
       "    <tr>\n",
       "      <th>19</th>\n",
       "      <td>14</td>\n",
       "      <td>1996-07-31</td>\n",
       "    </tr>\n",
       "    <tr>\n",
       "      <th>20</th>\n",
       "      <td>26</td>\n",
       "      <td>1996-08-01</td>\n",
       "    </tr>\n",
       "    <tr>\n",
       "      <th>21</th>\n",
       "      <td>27</td>\n",
       "      <td>1996-08-02</td>\n",
       "    </tr>\n",
       "    <tr>\n",
       "      <th>22</th>\n",
       "      <td>33</td>\n",
       "      <td>1996-08-06</td>\n",
       "    </tr>\n",
       "    <tr>\n",
       "      <th>23</th>\n",
       "      <td>22</td>\n",
       "      <td>1996-08-07</td>\n",
       "    </tr>\n",
       "    <tr>\n",
       "      <th>24</th>\n",
       "      <td>25</td>\n",
       "      <td>1996-08-13</td>\n",
       "    </tr>\n",
       "    <tr>\n",
       "      <th>25</th>\n",
       "      <td>25</td>\n",
       "      <td>1996-08-14</td>\n",
       "    </tr>\n",
       "    <tr>\n",
       "      <th>26</th>\n",
       "      <td>27</td>\n",
       "      <td>1996-08-20</td>\n",
       "    </tr>\n",
       "    <tr>\n",
       "      <th>27</th>\n",
       "      <td>22</td>\n",
       "      <td>1996-08-21</td>\n",
       "    </tr>\n",
       "    <tr>\n",
       "      <th>28</th>\n",
       "      <td>32</td>\n",
       "      <td>1996-08-27</td>\n",
       "    </tr>\n",
       "    <tr>\n",
       "      <th>29</th>\n",
       "      <td>22</td>\n",
       "      <td>1996-08-28</td>\n",
       "    </tr>\n",
       "    <tr>\n",
       "      <th>30</th>\n",
       "      <td>30</td>\n",
       "      <td>1996-09-03</td>\n",
       "    </tr>\n",
       "  </tbody>\n",
       "</table>\n",
       "</div>"
      ],
      "text/plain": [
       "    Order_ID  OrderDate\n",
       "0         27 1996-07-04\n",
       "1         31 1996-07-05\n",
       "2         21 1996-07-08\n",
       "3         31 1996-07-09\n",
       "4         28 1996-07-10\n",
       "5         27 1996-07-11\n",
       "6         28 1996-07-12\n",
       "7         22 1996-07-15\n",
       "8         32 1996-07-16\n",
       "9         29 1996-07-17\n",
       "10        26 1996-07-18\n",
       "11        29 1996-07-19\n",
       "12        26 1996-07-22\n",
       "13        30 1996-07-23\n",
       "14        30 1996-07-24\n",
       "15        26 1996-07-25\n",
       "16        30 1996-07-26\n",
       "17        23 1996-07-29\n",
       "18        29 1996-07-30\n",
       "19        14 1996-07-31\n",
       "20        26 1996-08-01\n",
       "21        27 1996-08-02\n",
       "22        33 1996-08-06\n",
       "23        22 1996-08-07\n",
       "24        25 1996-08-13\n",
       "25        25 1996-08-14\n",
       "26        27 1996-08-20\n",
       "27        22 1996-08-21\n",
       "28        32 1996-08-27\n",
       "29        22 1996-08-28\n",
       "30        30 1996-09-03"
      ]
     },
     "execution_count": 13,
     "metadata": {},
     "output_type": "execute_result"
    }
   ],
   "source": [
    "consulta3_dataframe"
   ]
  },
  {
   "cell_type": "code",
   "execution_count": 14,
   "metadata": {},
   "outputs": [],
   "source": [
    "consulta4 = (\"\"\"SELECT *\n",
    "                FROM orders\n",
    "                WHERE employee_id IN (SELECT employee_id\n",
    "                                      FROM employees\n",
    "                                      WHERE last_name = 'Davolio')\"\"\")\n",
    "\n",
    "cursor.execute(consulta4)\n",
    "consulta4_resultado = cursor.fetchall()"
   ]
  },
  {
   "cell_type": "code",
   "execution_count": null,
   "metadata": {},
   "outputs": [],
   "source": [
    "print(consulta4_resultado) #No lo hemos impreso porque en Pandas es más legible, pero funciona"
   ]
  },
  {
   "cell_type": "code",
   "execution_count": 16,
   "metadata": {},
   "outputs": [],
   "source": [
    "consulta4_dataframe = pandas.DataFrame(consulta4_resultado, columns = ['OrderID', 'CustomerID', 'EmployeeID', 'OrderDate',' RequiredDate', 'ShippedDate', 'ShipVia', 'Peso', 'ShipName', 'ShipAddres', 'ShipCity', 'ShipRegion', 'ShipPostalCode', 'ShipCountry'])"
   ]
  },
  {
   "cell_type": "code",
   "execution_count": 17,
   "metadata": {},
   "outputs": [
    {
     "data": {
      "text/html": [
       "<div>\n",
       "<style scoped>\n",
       "    .dataframe tbody tr th:only-of-type {\n",
       "        vertical-align: middle;\n",
       "    }\n",
       "\n",
       "    .dataframe tbody tr th {\n",
       "        vertical-align: top;\n",
       "    }\n",
       "\n",
       "    .dataframe thead th {\n",
       "        text-align: right;\n",
       "    }\n",
       "</style>\n",
       "<table border=\"1\" class=\"dataframe\">\n",
       "  <thead>\n",
       "    <tr style=\"text-align: right;\">\n",
       "      <th></th>\n",
       "      <th>OrderID</th>\n",
       "      <th>CustomerID</th>\n",
       "      <th>EmployeeID</th>\n",
       "      <th>OrderDate</th>\n",
       "      <th>RequiredDate</th>\n",
       "      <th>ShippedDate</th>\n",
       "      <th>ShipVia</th>\n",
       "      <th>Peso</th>\n",
       "      <th>ShipName</th>\n",
       "      <th>ShipAddres</th>\n",
       "      <th>ShipCity</th>\n",
       "      <th>ShipRegion</th>\n",
       "      <th>ShipPostalCode</th>\n",
       "      <th>ShipCountry</th>\n",
       "    </tr>\n",
       "  </thead>\n",
       "  <tbody>\n",
       "    <tr>\n",
       "      <th>0</th>\n",
       "      <td>10258</td>\n",
       "      <td>ERNSH</td>\n",
       "      <td>1</td>\n",
       "      <td>1996-07-17</td>\n",
       "      <td>1996-08-14</td>\n",
       "      <td>1996-07-23</td>\n",
       "      <td>1</td>\n",
       "      <td>140.51</td>\n",
       "      <td>Ernst Handel</td>\n",
       "      <td>Kirchgasse 6</td>\n",
       "      <td>Graz</td>\n",
       "      <td></td>\n",
       "      <td>8010</td>\n",
       "      <td>Austria</td>\n",
       "    </tr>\n",
       "    <tr>\n",
       "      <th>1</th>\n",
       "      <td>10270</td>\n",
       "      <td>WARTH</td>\n",
       "      <td>1</td>\n",
       "      <td>1996-08-01</td>\n",
       "      <td>1996-08-29</td>\n",
       "      <td>1996-08-02</td>\n",
       "      <td>1</td>\n",
       "      <td>136.54</td>\n",
       "      <td>Wartian Herkku</td>\n",
       "      <td>Torikatu 38</td>\n",
       "      <td>Oulu</td>\n",
       "      <td></td>\n",
       "      <td>90110</td>\n",
       "      <td>Finland</td>\n",
       "    </tr>\n",
       "    <tr>\n",
       "      <th>2</th>\n",
       "      <td>10275</td>\n",
       "      <td>MAGAA</td>\n",
       "      <td>1</td>\n",
       "      <td>1996-08-07</td>\n",
       "      <td>1996-09-04</td>\n",
       "      <td>1996-08-09</td>\n",
       "      <td>1</td>\n",
       "      <td>26.93</td>\n",
       "      <td>Magazzini Alimentari Riuniti</td>\n",
       "      <td>Via Ludovico il Moro 22</td>\n",
       "      <td>Bergamo</td>\n",
       "      <td></td>\n",
       "      <td>24100</td>\n",
       "      <td>Italy</td>\n",
       "    </tr>\n",
       "    <tr>\n",
       "      <th>3</th>\n",
       "      <td>10285</td>\n",
       "      <td>QUICK</td>\n",
       "      <td>1</td>\n",
       "      <td>1996-08-20</td>\n",
       "      <td>1996-09-17</td>\n",
       "      <td>1996-08-26</td>\n",
       "      <td>2</td>\n",
       "      <td>76.83</td>\n",
       "      <td>QUICK-Stop</td>\n",
       "      <td>Taucherstra�e 10</td>\n",
       "      <td>Cunewalde</td>\n",
       "      <td></td>\n",
       "      <td>1307</td>\n",
       "      <td>Germany</td>\n",
       "    </tr>\n",
       "    <tr>\n",
       "      <th>4</th>\n",
       "      <td>10292</td>\n",
       "      <td>TRADH</td>\n",
       "      <td>1</td>\n",
       "      <td>1996-08-28</td>\n",
       "      <td>1996-09-25</td>\n",
       "      <td>1996-09-02</td>\n",
       "      <td>2</td>\n",
       "      <td>1.35</td>\n",
       "      <td>Tradi�ao Hipermercados</td>\n",
       "      <td>Av. In�s de Castro, 414</td>\n",
       "      <td>Sao Paulo</td>\n",
       "      <td>SP</td>\n",
       "      <td>05634-030</td>\n",
       "      <td>Brazil</td>\n",
       "    </tr>\n",
       "    <tr>\n",
       "      <th>...</th>\n",
       "      <td>...</td>\n",
       "      <td>...</td>\n",
       "      <td>...</td>\n",
       "      <td>...</td>\n",
       "      <td>...</td>\n",
       "      <td>...</td>\n",
       "      <td>...</td>\n",
       "      <td>...</td>\n",
       "      <td>...</td>\n",
       "      <td>...</td>\n",
       "      <td>...</td>\n",
       "      <td>...</td>\n",
       "      <td>...</td>\n",
       "      <td>...</td>\n",
       "    </tr>\n",
       "    <tr>\n",
       "      <th>118</th>\n",
       "      <td>11064</td>\n",
       "      <td>SAVEA</td>\n",
       "      <td>1</td>\n",
       "      <td>1998-05-01</td>\n",
       "      <td>1998-05-29</td>\n",
       "      <td>1998-05-04</td>\n",
       "      <td>1</td>\n",
       "      <td>30.09</td>\n",
       "      <td>Save-a-lot Markets</td>\n",
       "      <td>187 Suffolk Ln.</td>\n",
       "      <td>Boise</td>\n",
       "      <td>ID</td>\n",
       "      <td>83720</td>\n",
       "      <td>USA</td>\n",
       "    </tr>\n",
       "    <tr>\n",
       "      <th>119</th>\n",
       "      <td>11067</td>\n",
       "      <td>DRACD</td>\n",
       "      <td>1</td>\n",
       "      <td>1998-05-04</td>\n",
       "      <td>1998-05-18</td>\n",
       "      <td>1998-05-06</td>\n",
       "      <td>2</td>\n",
       "      <td>7.98</td>\n",
       "      <td>Drachenblut Delikatessen</td>\n",
       "      <td>Walserweg 21</td>\n",
       "      <td>Aachen</td>\n",
       "      <td></td>\n",
       "      <td>52066</td>\n",
       "      <td>Germany</td>\n",
       "    </tr>\n",
       "    <tr>\n",
       "      <th>120</th>\n",
       "      <td>11069</td>\n",
       "      <td>TORTU</td>\n",
       "      <td>1</td>\n",
       "      <td>1998-05-04</td>\n",
       "      <td>1998-06-01</td>\n",
       "      <td>1998-05-06</td>\n",
       "      <td>2</td>\n",
       "      <td>15.67</td>\n",
       "      <td>Tortuga Restaurante</td>\n",
       "      <td>Avda. Azteca 123</td>\n",
       "      <td>M�xico D.F.</td>\n",
       "      <td></td>\n",
       "      <td>5033</td>\n",
       "      <td>Mexico</td>\n",
       "    </tr>\n",
       "    <tr>\n",
       "      <th>121</th>\n",
       "      <td>11071</td>\n",
       "      <td>LILAS</td>\n",
       "      <td>1</td>\n",
       "      <td>1998-05-05</td>\n",
       "      <td>1998-06-02</td>\n",
       "      <td>NaT</td>\n",
       "      <td>1</td>\n",
       "      <td>0.93</td>\n",
       "      <td>LILA-Supermercado</td>\n",
       "      <td>Carrera 52 con Ave. Bol�var #65-98 Llano Largo</td>\n",
       "      <td>Barquisimeto</td>\n",
       "      <td>Lara</td>\n",
       "      <td>3508</td>\n",
       "      <td>Venezuela</td>\n",
       "    </tr>\n",
       "    <tr>\n",
       "      <th>122</th>\n",
       "      <td>11077</td>\n",
       "      <td>RATTC</td>\n",
       "      <td>1</td>\n",
       "      <td>1998-05-06</td>\n",
       "      <td>1998-06-03</td>\n",
       "      <td>NaT</td>\n",
       "      <td>2</td>\n",
       "      <td>8.53</td>\n",
       "      <td>Rattlesnake Canyon Grocery</td>\n",
       "      <td>2817 Milton Dr.</td>\n",
       "      <td>Albuquerque</td>\n",
       "      <td>NM</td>\n",
       "      <td>87110</td>\n",
       "      <td>USA</td>\n",
       "    </tr>\n",
       "  </tbody>\n",
       "</table>\n",
       "<p>123 rows × 14 columns</p>\n",
       "</div>"
      ],
      "text/plain": [
       "     OrderID CustomerID  EmployeeID  OrderDate  RequiredDate ShippedDate  \\\n",
       "0      10258      ERNSH           1 1996-07-17    1996-08-14  1996-07-23   \n",
       "1      10270      WARTH           1 1996-08-01    1996-08-29  1996-08-02   \n",
       "2      10275      MAGAA           1 1996-08-07    1996-09-04  1996-08-09   \n",
       "3      10285      QUICK           1 1996-08-20    1996-09-17  1996-08-26   \n",
       "4      10292      TRADH           1 1996-08-28    1996-09-25  1996-09-02   \n",
       "..       ...        ...         ...        ...           ...         ...   \n",
       "118    11064      SAVEA           1 1998-05-01    1998-05-29  1998-05-04   \n",
       "119    11067      DRACD           1 1998-05-04    1998-05-18  1998-05-06   \n",
       "120    11069      TORTU           1 1998-05-04    1998-06-01  1998-05-06   \n",
       "121    11071      LILAS           1 1998-05-05    1998-06-02         NaT   \n",
       "122    11077      RATTC           1 1998-05-06    1998-06-03         NaT   \n",
       "\n",
       "     ShipVia    Peso                      ShipName  \\\n",
       "0          1  140.51                  Ernst Handel   \n",
       "1          1  136.54                Wartian Herkku   \n",
       "2          1   26.93  Magazzini Alimentari Riuniti   \n",
       "3          2   76.83                    QUICK-Stop   \n",
       "4          2    1.35        Tradi�ao Hipermercados   \n",
       "..       ...     ...                           ...   \n",
       "118        1   30.09            Save-a-lot Markets   \n",
       "119        2    7.98      Drachenblut Delikatessen   \n",
       "120        2   15.67           Tortuga Restaurante   \n",
       "121        1    0.93             LILA-Supermercado   \n",
       "122        2    8.53    Rattlesnake Canyon Grocery   \n",
       "\n",
       "                                         ShipAddres      ShipCity ShipRegion  \\\n",
       "0                                      Kirchgasse 6          Graz              \n",
       "1                                       Torikatu 38          Oulu              \n",
       "2                           Via Ludovico il Moro 22       Bergamo              \n",
       "3                                  Taucherstra�e 10     Cunewalde              \n",
       "4                           Av. In�s de Castro, 414     Sao Paulo         SP   \n",
       "..                                              ...           ...        ...   \n",
       "118                                 187 Suffolk Ln.         Boise         ID   \n",
       "119                                    Walserweg 21        Aachen              \n",
       "120                                Avda. Azteca 123   M�xico D.F.              \n",
       "121  Carrera 52 con Ave. Bol�var #65-98 Llano Largo  Barquisimeto       Lara   \n",
       "122                                 2817 Milton Dr.   Albuquerque         NM   \n",
       "\n",
       "    ShipPostalCode ShipCountry  \n",
       "0             8010     Austria  \n",
       "1            90110     Finland  \n",
       "2            24100       Italy  \n",
       "3             1307     Germany  \n",
       "4        05634-030      Brazil  \n",
       "..             ...         ...  \n",
       "118          83720         USA  \n",
       "119          52066     Germany  \n",
       "120           5033      Mexico  \n",
       "121           3508   Venezuela  \n",
       "122          87110         USA  \n",
       "\n",
       "[123 rows x 14 columns]"
      ]
     },
     "execution_count": 17,
     "metadata": {},
     "output_type": "execute_result"
    }
   ],
   "source": [
    "consulta4_dataframe"
   ]
  },
  {
   "cell_type": "markdown",
   "metadata": {},
   "source": [
    "Ejercicio 5. Desconectar la conexión con el servidor."
   ]
  },
  {
   "cell_type": "code",
   "execution_count": 18,
   "metadata": {},
   "outputs": [
    {
     "data": {
      "text/plain": [
       "True"
      ]
     },
     "execution_count": 18,
     "metadata": {},
     "output_type": "execute_result"
    }
   ],
   "source": [
    "cnx.close()\n",
    "cursor.close()"
   ]
  }
 ],
 "metadata": {
  "kernelspec": {
   "display_name": "Python 3.10.7 64-bit",
   "language": "python",
   "name": "python3"
  },
  "language_info": {
   "codemirror_mode": {
    "name": "ipython",
    "version": 3
   },
   "file_extension": ".py",
   "mimetype": "text/x-python",
   "name": "python",
   "nbconvert_exporter": "python",
   "pygments_lexer": "ipython3",
   "version": "3.10.7"
  },
  "orig_nbformat": 4,
  "vscode": {
   "interpreter": {
    "hash": "f0d0cdf5bbfc5bf143425a9ac8ca58b7235654eb99f7bbb57643934264c436bd"
   }
  }
 },
 "nbformat": 4,
 "nbformat_minor": 2
}
