{
 "cells": [
  {
   "cell_type": "markdown",
   "metadata": {},
   "source": [
    "Ejercicio 1. Calculadora de puntos.\n",
    "Prueba las siguientes operaciones."
   ]
  },
  {
   "cell_type": "code",
   "execution_count": null,
   "metadata": {},
   "outputs": [],
   "source": [
    "# \"..... + ...............\" => \"....................\" \n",
    "# \"..... - ...\" => \"..\"\n",
    "# \"..... * ...\" => \"...............\"\n",
    "# \"..... // ..\" => \"..\"\n",
    "# \". // ..\" => \"\"\n",
    "# \".. - ..\" => \"\""
   ]
  },
  {
   "cell_type": "code",
   "execution_count": 1,
   "metadata": {},
   "outputs": [],
   "source": [
    "\n",
    "def calculadora_puntos(cadena):\n",
    "    lista_vacia=[]\n",
    "    cadena2 = cadena.split()\n",
    "\n",
    "    if cadena2[1]=='+':\n",
    "        lista_vacia.append((cadena2[0].count('.')) + (cadena2[2].count('.')))\n",
    "        x=(lista_vacia[0])\n",
    "        return (x * '.')\n",
    "\n",
    "    elif cadena2[1]=='-':\n",
    "        lista_vacia.append((cadena2[0].count('.')) - (cadena2[2].count('.')))\n",
    "        x=(lista_vacia[0])\n",
    "        return (x * '.')\n",
    "\n",
    "    elif cadena2[1]=='*':\n",
    "        lista_vacia.append((cadena2[0].count('.')) * (cadena2[2].count('.')))\n",
    "        x=(lista_vacia[0])\n",
    "        return (x * '.')\n",
    "\n",
    "    elif cadena2[1]=='//':\n",
    "        lista_vacia.append((cadena2[0].count('.')) // (cadena2[2].count('.')))\n",
    "        x=(lista_vacia[0])\n",
    "        return (x * '.')\n",
    "        \n",
    "    else:\n",
    "        return \"\"\n"
   ]
  },
  {
   "cell_type": "code",
   "execution_count": 2,
   "metadata": {},
   "outputs": [
    {
     "data": {
      "text/plain": [
       "'....................'"
      ]
     },
     "execution_count": 2,
     "metadata": {},
     "output_type": "execute_result"
    }
   ],
   "source": [
    "calculadora_puntos (\"..... + ...............\" )"
   ]
  },
  {
   "cell_type": "code",
   "execution_count": 3,
   "metadata": {},
   "outputs": [
    {
     "data": {
      "text/plain": [
       "'..'"
      ]
     },
     "execution_count": 3,
     "metadata": {},
     "output_type": "execute_result"
    }
   ],
   "source": [
    "calculadora_puntos(\"..... - ...\")"
   ]
  },
  {
   "cell_type": "code",
   "execution_count": 4,
   "metadata": {},
   "outputs": [
    {
     "data": {
      "text/plain": [
       "'...............'"
      ]
     },
     "execution_count": 4,
     "metadata": {},
     "output_type": "execute_result"
    }
   ],
   "source": [
    "calculadora_puntos(\"..... * ...\")"
   ]
  },
  {
   "cell_type": "code",
   "execution_count": 5,
   "metadata": {},
   "outputs": [
    {
     "data": {
      "text/plain": [
       "'..'"
      ]
     },
     "execution_count": 5,
     "metadata": {},
     "output_type": "execute_result"
    }
   ],
   "source": [
    "calculadora_puntos(\"..... // ..\")"
   ]
  },
  {
   "cell_type": "code",
   "execution_count": 6,
   "metadata": {},
   "outputs": [
    {
     "data": {
      "text/plain": [
       "''"
      ]
     },
     "execution_count": 6,
     "metadata": {},
     "output_type": "execute_result"
    }
   ],
   "source": [
    "calculadora_puntos(\". // ..\")"
   ]
  },
  {
   "cell_type": "code",
   "execution_count": 7,
   "metadata": {},
   "outputs": [
    {
     "data": {
      "text/plain": [
       "''"
      ]
     },
     "execution_count": 7,
     "metadata": {},
     "output_type": "execute_result"
    }
   ],
   "source": [
    "calculadora_puntos(\".. - ..\")"
   ]
  },
  {
   "cell_type": "markdown",
   "metadata": {},
   "source": [
    "Ejercicio 2. Qué año será el próximo que felicite a mi amigo sin que se repita ningún dígito."
   ]
  },
  {
   "cell_type": "code",
   "execution_count": 8,
   "metadata": {},
   "outputs": [],
   "source": [
    "def cumpleaños (año):\n",
    "    felicidades=año+1\n",
    "    while len(set(str(felicidades)))!=4:\n",
    "        felicidades+=1\n",
    "    return felicidades\n"
   ]
  },
  {
   "cell_type": "code",
   "execution_count": 9,
   "metadata": {},
   "outputs": [
    {
     "data": {
      "text/plain": [
       "7801"
      ]
     },
     "execution_count": 9,
     "metadata": {},
     "output_type": "execute_result"
    }
   ],
   "source": [
    "cumpleaños(7712)"
   ]
  },
  {
   "cell_type": "code",
   "execution_count": 10,
   "metadata": {},
   "outputs": [
    {
     "data": {
      "text/plain": [
       "1023"
      ]
     },
     "execution_count": 10,
     "metadata": {},
     "output_type": "execute_result"
    }
   ],
   "source": [
    "cumpleaños(1001)"
   ]
  },
  {
   "cell_type": "code",
   "execution_count": 11,
   "metadata": {},
   "outputs": [
    {
     "data": {
      "text/plain": [
       "1203"
      ]
     },
     "execution_count": 11,
     "metadata": {},
     "output_type": "execute_result"
    }
   ],
   "source": [
    "cumpleaños(1123)"
   ]
  },
  {
   "cell_type": "code",
   "execution_count": 12,
   "metadata": {},
   "outputs": [
    {
     "data": {
      "text/plain": [
       "2013"
      ]
     },
     "execution_count": 12,
     "metadata": {},
     "output_type": "execute_result"
    }
   ],
   "source": [
    "cumpleaños(2001)"
   ]
  },
  {
   "cell_type": "markdown",
   "metadata": {},
   "source": [
    "Ejercicio 3. cuantos días estará encendido el evaporador de agua. Probad con las siguientes cantidades:"
   ]
  },
  {
   "cell_type": "code",
   "execution_count": 52,
   "metadata": {},
   "outputs": [],
   "source": [
    "#!!!!!!!!!!!!!!!!!!!!!!!!!!!!revisar\n",
    "#umbral\n",
    "#cuando tenga menos de 0.5ml ya no funciona"
   ]
  },
  {
   "cell_type": "code",
   "execution_count": 17,
   "metadata": {},
   "outputs": [],
   "source": [
    "def dias_evaporador (capacidad, perdida,umbral):\n",
    "    umbral_distinta_unidad = capacidad*umbral/100\n",
    "    dias = 0\n",
    "    while capacidad >= umbral_distinta_unidad:\n",
    "        capacidad -= capacidad*perdida/100\n",
    "        dias += 1\n",
    "    return f\"El Evaporador durará encendido {dias} días\""
   ]
  },
  {
   "cell_type": "code",
   "execution_count": 18,
   "metadata": {},
   "outputs": [
    {
     "data": {
      "text/plain": [
       "'El Evaporador durará encendido 29 días'"
      ]
     },
     "execution_count": 18,
     "metadata": {},
     "output_type": "execute_result"
    }
   ],
   "source": [
    "dias_evaporador(10,10,5)"
   ]
  },
  {
   "cell_type": "code",
   "execution_count": 19,
   "metadata": {},
   "outputs": [
    {
     "data": {
      "text/plain": [
       "'El Evaporador durará encendido 22 días'"
      ]
     },
     "execution_count": 19,
     "metadata": {},
     "output_type": "execute_result"
    }
   ],
   "source": [
    "dias_evaporador(10,10,10)"
   ]
  },
  {
   "cell_type": "markdown",
   "metadata": {},
   "source": [
    "Ejercicio 4. Devuelve True o False si un número es primo o no.\n",
    "Probad con los sigientes números."
   ]
  },
  {
   "cell_type": "code",
   "execution_count": 20,
   "metadata": {},
   "outputs": [],
   "source": [
    "# 0 => False\n",
    "# 2 => True\n",
    "# 73 => True\n",
    "# -1 => False\n",
    "# 5099 => True"
   ]
  },
  {
   "cell_type": "code",
   "execution_count": 21,
   "metadata": {},
   "outputs": [],
   "source": [
    "def numero_es_primo(num):\n",
    "    resultado = []\n",
    "    numero_comprobar = 1 \n",
    "\n",
    "    while numero_comprobar != num:\n",
    "        if num <= 0 :\n",
    "            return False\n",
    "\n",
    "        else:\n",
    "            operacion = num % numero_comprobar\n",
    "            resultado.append(operacion)\n",
    "            numero_comprobar += 1\n",
    "\n",
    "    if resultado.count(0) > 1:\n",
    "       # print (resultado)\n",
    "        return False\n",
    "    else:\n",
    "       # print (resultado)\n",
    "        return True       \n",
    "        "
   ]
  },
  {
   "cell_type": "code",
   "execution_count": 22,
   "metadata": {},
   "outputs": [
    {
     "data": {
      "text/plain": [
       "False"
      ]
     },
     "execution_count": 22,
     "metadata": {},
     "output_type": "execute_result"
    }
   ],
   "source": [
    "numero_es_primo(0)"
   ]
  },
  {
   "cell_type": "code",
   "execution_count": 23,
   "metadata": {},
   "outputs": [
    {
     "data": {
      "text/plain": [
       "True"
      ]
     },
     "execution_count": 23,
     "metadata": {},
     "output_type": "execute_result"
    }
   ],
   "source": [
    "numero_es_primo(2)"
   ]
  },
  {
   "cell_type": "code",
   "execution_count": 24,
   "metadata": {},
   "outputs": [
    {
     "data": {
      "text/plain": [
       "True"
      ]
     },
     "execution_count": 24,
     "metadata": {},
     "output_type": "execute_result"
    }
   ],
   "source": [
    "numero_es_primo(73)"
   ]
  },
  {
   "cell_type": "code",
   "execution_count": 25,
   "metadata": {},
   "outputs": [
    {
     "data": {
      "text/plain": [
       "False"
      ]
     },
     "execution_count": 25,
     "metadata": {},
     "output_type": "execute_result"
    }
   ],
   "source": [
    "numero_es_primo(-1)"
   ]
  },
  {
   "cell_type": "code",
   "execution_count": 26,
   "metadata": {},
   "outputs": [
    {
     "data": {
      "text/plain": [
       "True"
      ]
     },
     "execution_count": 26,
     "metadata": {},
     "output_type": "execute_result"
    }
   ],
   "source": [
    "numero_es_primo(5099)"
   ]
  },
  {
   "cell_type": "markdown",
   "metadata": {},
   "source": [
    "Ejercicio 5. Replica de los me gusta de Facebook. Probad los siguientes ejemplos:"
   ]
  },
  {
   "cell_type": "code",
   "execution_count": 27,
   "metadata": {},
   "outputs": [],
   "source": [
    "#[]                              -->  \"A nadie le gusta esto\"\n",
    "#[\"Paola\"]                       -->  \"A Paola le gusta esto\"\n",
    "#[\"Jacoba\", \"Alex\"]               -->  \"A Jacoba y Alex les gusta esto\"\n",
    "#[\"Maria\", \"Juana\", \"Lola\"]         -->  \"A Maria, Juana y Lola les gusta esto\"\n",
    "#[\"Alex\", \"Jacoba\", \"Lola\", \"Carmen\"]-->  \"A Alex, Jacoba y 2 más les gusta esto\"\n",
    "#[\"Alex\", \"Jacoba\", \"Lola\", \"Carmen\", \"Mariana\"]-->  \"A Alex, Jacoba y 3 más les gusta esto\"\n",
    "\n",
    "ejemplo1 = []\n",
    "ejemplo2 = [\"Paola\"]\n",
    "ejemplo3 = [\"Jacoba\", \"Alex\"] \n",
    "ejemplo4 = [\"Maria\", \"Juana\", \"Lola\"] \n",
    "ejemplo5 = [\"Alex\", \"Jacoba\", \"Lola\", \"Carmen\"]\n",
    "ejemplo6 = [\"Alex\", \"Jacoba\", \"Lola\", \"Carmen\", \"Mariana\"]"
   ]
  },
  {
   "cell_type": "code",
   "execution_count": 28,
   "metadata": {},
   "outputs": [],
   "source": [
    "def me_gustas(nombres):\n",
    "    \n",
    "    if len(nombres) == 0:\n",
    "        return \"A nadie le gusta esto\"\n",
    "    elif len(nombres) == 1:\n",
    "        return f\"A {nombres[0]} le gusta esto\"\n",
    "    elif len(nombres) == 2:\n",
    "        return f\"A {nombres[0]} y {nombres[1]} les gusta esto\"\n",
    "    elif len(nombres) == 3:\n",
    "        return f\"A {nombres[0]}, {nombres[1]} y {nombres[2]} les gusta esto\"\n",
    "    else:\n",
    "        return f\"A {nombres[0]}, {nombres[1]} y {len(nombres)-2} personas más les gusta esto\""
   ]
  },
  {
   "cell_type": "code",
   "execution_count": 29,
   "metadata": {},
   "outputs": [
    {
     "data": {
      "text/plain": [
       "'A nadie le gusta esto'"
      ]
     },
     "execution_count": 29,
     "metadata": {},
     "output_type": "execute_result"
    }
   ],
   "source": [
    "me_gustas(ejemplo1)"
   ]
  },
  {
   "cell_type": "code",
   "execution_count": 30,
   "metadata": {},
   "outputs": [
    {
     "data": {
      "text/plain": [
       "'A Paola le gusta esto'"
      ]
     },
     "execution_count": 30,
     "metadata": {},
     "output_type": "execute_result"
    }
   ],
   "source": [
    "me_gustas(ejemplo2)"
   ]
  },
  {
   "cell_type": "code",
   "execution_count": 31,
   "metadata": {},
   "outputs": [
    {
     "data": {
      "text/plain": [
       "'A Jacoba y Alex les gusta esto'"
      ]
     },
     "execution_count": 31,
     "metadata": {},
     "output_type": "execute_result"
    }
   ],
   "source": [
    "me_gustas(ejemplo3)"
   ]
  },
  {
   "cell_type": "code",
   "execution_count": 32,
   "metadata": {},
   "outputs": [
    {
     "data": {
      "text/plain": [
       "'A Maria, Juana y Lola les gusta esto'"
      ]
     },
     "execution_count": 32,
     "metadata": {},
     "output_type": "execute_result"
    }
   ],
   "source": [
    "me_gustas(ejemplo4)"
   ]
  },
  {
   "cell_type": "code",
   "execution_count": 33,
   "metadata": {},
   "outputs": [
    {
     "data": {
      "text/plain": [
       "'A Alex, Jacoba y 2 personas más les gusta esto'"
      ]
     },
     "execution_count": 33,
     "metadata": {},
     "output_type": "execute_result"
    }
   ],
   "source": [
    "me_gustas(ejemplo5)"
   ]
  },
  {
   "cell_type": "code",
   "execution_count": 34,
   "metadata": {},
   "outputs": [
    {
     "data": {
      "text/plain": [
       "'A Alex, Jacoba y 3 personas más les gusta esto'"
      ]
     },
     "execution_count": 34,
     "metadata": {},
     "output_type": "execute_result"
    }
   ],
   "source": [
    "me_gustas(ejemplo6)"
   ]
  }
 ],
 "metadata": {
  "kernelspec": {
   "display_name": "Python 3.10.7 64-bit",
   "language": "python",
   "name": "python3"
  },
  "language_info": {
   "codemirror_mode": {
    "name": "ipython",
    "version": 3
   },
   "file_extension": ".py",
   "mimetype": "text/x-python",
   "name": "python",
   "nbconvert_exporter": "python",
   "pygments_lexer": "ipython3",
   "version": "3.10.7"
  },
  "orig_nbformat": 4,
  "vscode": {
   "interpreter": {
    "hash": "f0d0cdf5bbfc5bf143425a9ac8ca58b7235654eb99f7bbb57643934264c436bd"
   }
  }
 },
 "nbformat": 4,
 "nbformat_minor": 2
}
