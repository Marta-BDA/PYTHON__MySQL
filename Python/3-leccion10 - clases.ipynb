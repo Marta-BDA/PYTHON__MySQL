{
 "cells": [
  {
   "cell_type": "markdown",
   "metadata": {},
   "source": [
    "Ejercicio 1 - clase empleados"
   ]
  },
  {
   "cell_type": "code",
   "execution_count": 44,
   "metadata": {},
   "outputs": [],
   "source": [
    "class Empleados:\n",
    "# La clase empleados es un código para organizar la información de los empleados de la empresa.\n",
    "# Toma como atributos: \n",
    "#                    - nombre del empleado.\n",
    "#                    - apellido del empleado.\n",
    "#                    - edad del empleado.\n",
    "#                    - posición que ocupa en la empresa.\n",
    "#                    - año que entró en la empresa.\n",
    "#                    - días de vacaciones que tiene.\n",
    "#                    - herramientas que sabe utilizar y emplea.\n",
    "#\n",
    "#Estos atributos son los que utilizaremos para definir los métodos de:\n",
    "#                                                                     - descripcion() Nos da una breve descripción del empleado con los datos más característicos a nivel coloquial.\n",
    "#                                                                     - calculo_de_vacaciones() Sirve para que el empleado pueda chequear los días que se quiere ir de vacaciones y quede registrado.\n",
    "#                                                                     - cambiando_posicion() chequea si el empleado utiliza Python y si usa Excel le sugerimos que cambie su opción por Python.\n",
    "\n",
    "\n",
    "\n",
    "    def __init__(self, nombre, apellido, edad, puesto, contratado,vacaciones,herramientas):\n",
    "        self.nombre = nombre\n",
    "        self.apellido = apellido\n",
    "        self.edad=edad\n",
    "        self.puesto=puesto\n",
    "        self.contratado=contratado\n",
    "        self.vacaciones=vacaciones\n",
    "        self.herramientas=herramientas\n",
    "    \n",
    "    def descripcion(self, año):\n",
    "        \n",
    "        años_en_empresa = año - self.contratado\n",
    "        return f\"Se llama, {self.nombre} {self.apellido}, tiene {self.edad} años y es {self.puesto}, y lleva en la empresa {años_en_empresa} años. Este año le quedan {self.vacaciones} dias de vacaciones\"\n",
    "       \n",
    "    \n",
    "    def calculo_de_vacaciones(self,dias_pedidos):\n",
    "        # Interpretamos que la resta es de los días que ya ha disfrutado de vacaciones, dando por hehco que todos\n",
    "        # los empleados tienen 22 días y hay que devolver lo que le queda.\n",
    "\n",
    "        dias_pendientes = self.vacaciones - dias_pedidos\n",
    "\n",
    "        if dias_pendientes <= 0:\n",
    "            return 'Lo siento pero ya no te quedan vacaciones'\n",
    "\n",
    "        elif dias_pedidos > self.vacaciones:\n",
    "            return f'No te puedes ir tantos dias, porque te quedan {self.vacaciones}'\n",
    "\n",
    "        else:\n",
    "            return f'¡Genial! Te puedes ir de vacaciones y te quedan {dias_pendientes} días'\n",
    "        \n",
    "    def cambio_posicion (self):\n",
    "        \n",
    "            if 'python' in self.herramientas or 'PYTHON' in self.herramientas or 'Python' in self.herramientas:\n",
    "                return '¡Bien hecho por el uso de Python!'\n",
    "\n",
    "            elif 'excel' in self.herramientas or'Excel' in self.herramientas or 'EXCEL' in self.herramientas:\n",
    "                return 'Mejor si usas Python, porque tiene Pandas'\n",
    "                \n",
    "\n",
    "            "
   ]
  },
  {
   "cell_type": "code",
   "execution_count": 45,
   "metadata": {},
   "outputs": [],
   "source": [
    "pepito=Empleados ('Jose','Perez',30,'gerente',2010,22,['word', 'excel'])\n",
    "\n"
   ]
  },
  {
   "cell_type": "code",
   "execution_count": 46,
   "metadata": {},
   "outputs": [
    {
     "data": {
      "text/plain": [
       "'Se llama, Jose Perez, tiene 30 años y es gerente, y lleva en la empresa 12 años. Este año le quedan 22 dias de vacaciones'"
      ]
     },
     "execution_count": 46,
     "metadata": {},
     "output_type": "execute_result"
    }
   ],
   "source": [
    "Empleados.descripcion(pepito,2022)"
   ]
  },
  {
   "cell_type": "code",
   "execution_count": 47,
   "metadata": {},
   "outputs": [
    {
     "data": {
      "text/plain": [
       "'¡Genial! Te puedes ir de vacaciones y te quedan 12 días'"
      ]
     },
     "execution_count": 47,
     "metadata": {},
     "output_type": "execute_result"
    }
   ],
   "source": [
    "Empleados.calculo_de_vacaciones(pepito, 10)"
   ]
  },
  {
   "cell_type": "code",
   "execution_count": 48,
   "metadata": {},
   "outputs": [
    {
     "data": {
      "text/plain": [
       "'Mejor si usas Python, porque tiene Pandas'"
      ]
     },
     "execution_count": 48,
     "metadata": {},
     "output_type": "execute_result"
    }
   ],
   "source": [
    "Empleados.cambio_posicion(pepito)"
   ]
  }
 ],
 "metadata": {
  "kernelspec": {
   "display_name": "Python 3.10.7 64-bit",
   "language": "python",
   "name": "python3"
  },
  "language_info": {
   "codemirror_mode": {
    "name": "ipython",
    "version": 3
   },
   "file_extension": ".py",
   "mimetype": "text/x-python",
   "name": "python",
   "nbconvert_exporter": "python",
   "pygments_lexer": "ipython3",
   "version": "3.10.7"
  },
  "orig_nbformat": 4,
  "vscode": {
   "interpreter": {
    "hash": "f0d0cdf5bbfc5bf143425a9ac8ca58b7235654eb99f7bbb57643934264c436bd"
   }
  }
 },
 "nbformat": 4,
 "nbformat_minor": 2
}
